{
 "cells": [
  {
   "cell_type": "markdown",
   "metadata": {},
   "source": [
    "# HeapSort"
   ]
  },
  {
   "cell_type": "markdown",
   "metadata": {},
   "source": [
    "* https://www.youtube.com/watch?v=WDm8a9GvQyU&list=PLVNY1HnUlO25sSWDr7CzVvkOF3bUgkiQQ&index=11\n",
    "* https://www.youtube.com/watch?v=1vVH3cYKntw&list=PLVNY1HnUlO25sSWDr7CzVvkOF3bUgkiQQ&index=12\n",
    "* https://github.com/minsuk-heo/problemsolving/blob/master/sort/HeapSort.py"
   ]
  },
  {
   "cell_type": "markdown",
   "metadata": {},
   "source": [
    "Time Complexity: Run time\n",
    "* worst-case O(nlogn)\n",
    "* O(1) for get root value(max, min value)"
   ]
  },
  {
   "cell_type": "markdown",
   "metadata": {},
   "source": [
    "Space Complexity\n",
    "* HeapSort is an in-place algorithm\n",
    "* in-place: 입력리스트 내부에서 정렬이 이루어지는 경우를 가리킨다. 반대는 정렬 도중에 별도 저장 공간을 필요로 하는 경우이다."
   ]
  },
  {
   "cell_type": "markdown",
   "metadata": {},
   "source": [
    "### Heapify"
   ]
  },
  {
   "cell_type": "code",
   "execution_count": 1,
   "metadata": {},
   "outputs": [],
   "source": [
    "def heapify(a, size):\n",
    "    p = (size//2) - 1\n",
    "    while p>=0:\n",
    "        siftdown(a, p, size)\n",
    "        p -= 1"
   ]
  },
  {
   "cell_type": "markdown",
   "metadata": {},
   "source": [
    "이 때 p를 (size//2)-1 로 선언하는 이유를 생각해보자. heapify는 특정 노드의 값을 heap 구조에 맞게 siftdown 하는 것을 의미한다. 해당 과정은 자식노드와 비교를 하는 것이므로 자식노드가 없는 노드는 이 과정을 필요로 하지 않는다. 따라서 자식노드를 제외한 노드들만 heapify를 하기 위해 p = (size//2)-1 로 선언한다."
   ]
  },
  {
   "cell_type": "markdown",
   "metadata": {},
   "source": [
    "### siftdown"
   ]
  },
  {
   "cell_type": "code",
   "execution_count": 2,
   "metadata": {},
   "outputs": [],
   "source": [
    "def siftdown(a, i, size):\n",
    "    l = 2*i + 1    # left child node\n",
    "    r = 2*i + 2    # right child node\n",
    "    largest = i\n",
    "    if l <= size-1 and a[l] > a[i]:\n",
    "        largest = l\n",
    "    if r <= size-1 and a[r] > a[largest]:\n",
    "        largest = r\n",
    "    if largest != i:\n",
    "        swap(a, i, largest)\n",
    "        siftdown(a, largest, size)"
   ]
  },
  {
   "cell_type": "markdown",
   "metadata": {},
   "source": [
    "### Full Code"
   ]
  },
  {
   "cell_type": "markdown",
   "metadata": {},
   "source": [
    "Title: Heapsort<br>\n",
    "<br>\n",
    "Statement:<br>\n",
    "Given a disordered list of integers(or any other items), rearrange the integers in natural order.<br>\n",
    "<br>\n",
    "Sample Input: [8,5,3,1,9,6,0,7,4,2,5]<br>\n",
    "Sample output: [0,1,2,3,4,5,5,6,7,8,9]<br>\n",
    "<br>\n",
    "Time Complexity of Solution:<br>\n",
    "Best O(nlog(n)); Average O(nlog(n)); Worst O(nlog(n)).<br>\n",
    "<br>\n",
    "Approach:<br>\n",
    "Heap sort happens in two phases. In the first pahse, the array is transformed into a heap. A heap is a binary tree where <br>\n",
    "1) each node is greater than each of its children<br>\n",
    "2) the tree is perfectly balanced<br>\n",
    "3) all leaves are in the leftmost position available<br>\n",
    "In phase two the heap is continuously reduced to a sorted array:<br>\n",
    "1) while the heap is not empty<br>\n",
    "- remove the top of the head into an array<br>\n",
    "- fix the heap<br>\n",
    "\n",
    "Heap sort was invented by John Williams not by B. R. Heap.<br>\n",
    "<br>\n",
    "MoveDown:<br>\n",
    "The movedown method checks and verifies that the structure is a heap<br>\n",
    "<br>\n",
    "Technical Details:<br>\n",
    "A heap is based on an array just as a hashmap is based on an array. For a heap, the children of an element n are at index 2n+1 for the left child and 2n+2 for the right child.<br>\n",
    "<br>\n",
    "The movedown function checks that an element is greater than tis children. If not the values of element and child are swapped. The function continues to check and swap until the element is at a position where it is greater than its children"
   ]
  },
  {
   "cell_type": "code",
   "execution_count": 6,
   "metadata": {},
   "outputs": [
    {
     "name": "stdout",
     "output_type": "stream",
     "text": [
      "[1, 2, 3, 4, 7, 9]\n"
     ]
    }
   ],
   "source": [
    "def heapsort(a):\n",
    "    \n",
    "    # node간 원소 교환\n",
    "    def swap(a, i, j):\n",
    "        tmp = a[i]\n",
    "        a[i] = a[j]\n",
    "        a[j] = tmp\n",
    "        \n",
    "    # node i 기준으로 아래로 내려가면서 조건을 통해 swap    \n",
    "    def siftdown(a, i, size):\n",
    "        l = 2*i + 1\n",
    "        r = 2*i + 2\n",
    "        largest = i\n",
    "        if l <= size-1 and a[l] > a[i]:\n",
    "            largest = l\n",
    "        if r <= size-1 and a[r] > a[largest]:\n",
    "            largest = r\n",
    "        if largest != i:\n",
    "            swap(a, i, largest)\n",
    "            siftdown(a, largest, size)    # heap 조건을 만족할때까지 아래 node로 이동하면서 siftdown 수행\n",
    "    \n",
    "    # leaf node를 제외한 모든 node에 대하여 수행\n",
    "    def heapify(a, size):\n",
    "        p = (size//2)-1\n",
    "        while p>=0:\n",
    "            siftdown(a, p, size)\n",
    "            p -= 1\n",
    "            \n",
    "    size = len(a)\n",
    "    heapify(a, size)    # heap 조건 만족\n",
    "   # heap sort를 위한 code \n",
    "    end = size-1\n",
    "    while end >0:\n",
    "        swap(a, 0, end)\n",
    "        siftdown(a, 0, end)\n",
    "        end -= 1\n",
    "\n",
    "arr = [1,3,2,4,9,7]\n",
    "heapsort(arr)\n",
    "print(arr)"
   ]
  },
  {
   "cell_type": "markdown",
   "metadata": {},
   "source": [
    "### 활용"
   ]
  },
  {
   "cell_type": "markdown",
   "metadata": {},
   "source": [
    "* heap 구조는 원소의 최댓값(또는 최소값)을 찾는데 활용할 수 있다. 바로 root node로 접근하면 되기 때문에 시간복잡도가 O(1)로 굉장히 짧기 때문이다."
   ]
  }
 ],
 "metadata": {
  "kernelspec": {
   "display_name": "Python 3",
   "language": "python",
   "name": "python3"
  },
  "language_info": {
   "codemirror_mode": {
    "name": "ipython",
    "version": 3
   },
   "file_extension": ".py",
   "mimetype": "text/x-python",
   "name": "python",
   "nbconvert_exporter": "python",
   "pygments_lexer": "ipython3",
   "version": "3.7.3"
  }
 },
 "nbformat": 4,
 "nbformat_minor": 2
}
