{
  "nbformat": 4,
  "nbformat_minor": 0,
  "metadata": {
    "colab": {
      "name": "Greedy.ipynb",
      "provenance": [],
      "collapsed_sections": [],
      "authorship_tag": "ABX9TyMhFZdgxHlOOPBUNDqneH5C"
    },
    "kernelspec": {
      "name": "python3",
      "display_name": "Python 3"
    }
  },
  "cells": [
    {
      "cell_type": "markdown",
      "metadata": {
        "id": "bvMURIVUvuBu",
        "colab_type": "text"
      },
      "source": [
        "# Greedy"
      ]
    },
    {
      "cell_type": "markdown",
      "metadata": {
        "id": "bmlrRMhpvJrQ",
        "colab_type": "text"
      },
      "source": [
        ">현재 상황에서 가장 좋아 보이는 것만을 선택하는 알고리즘입니다. 현재 상황에서 가장 좋아 보이는 것만을 선택하기 때문에, 정확한 답을 도출하지 못하더라도 그럴싸한 답을 도출하는 데에 도움이 됩니다. 하지만 코딩 테스트에서는 대부분 '최적의 해'를 찾는 문제가 출제되기 때문에 그리디 알고리즘의 정당성을 고민하면서 문제 해결 방안을 떠올려야 합니다."
      ]
    },
    {
      "cell_type": "markdown",
      "metadata": {
        "id": "dKSTFfAxgZgd",
        "colab_type": "text"
      },
      "source": [
        "### 거스름돈\n",
        "\n"
      ]
    },
    {
      "cell_type": "code",
      "metadata": {
        "id": "LaAadgLlBlZk",
        "colab_type": "code",
        "colab": {
          "base_uri": "https://localhost:8080/",
          "height": 35
        },
        "outputId": "c89f3ab0-35c2-4b75-f337-1d45d4032ce2"
      },
      "source": [
        "# 가장 큰 화폐부터 돈을 거슬러 주는 것\n",
        "# O(k) (단, 화폐의 종류는 k)\n",
        "\n",
        "### 큰 단위의 화폐부터 차례대로 확인\n",
        "coins = [500, 100, 50, 10]\n",
        "money = 1260\n",
        "count = 0\n",
        "\n",
        "for coin in coins:\n",
        "    count += money//coin\n",
        "    money = money%coin\n",
        "    # if money ==0:\n",
        "    #     break\n",
        "\n",
        "print(count)"
      ],
      "execution_count": null,
      "outputs": [
        {
          "output_type": "stream",
          "text": [
            "6\n"
          ],
          "name": "stdout"
        }
      ]
    },
    {
      "cell_type": "markdown",
      "metadata": {
        "id": "2bMVxKhECXKe",
        "colab_type": "text"
      },
      "source": [
        "### 큰 수의 법칙"
      ]
    },
    {
      "cell_type": "code",
      "metadata": {
        "id": "dw__qD2BVupD",
        "colab_type": "code",
        "colab": {
          "base_uri": "https://localhost:8080/",
          "height": 89
        },
        "outputId": "fe6edeb4-ae6a-4978-85ef-c53385064676"
      },
      "source": [
        "# 5 8 3\n",
        "# 2 4 5 4 6\n",
        "\n",
        "import time\n",
        "\n",
        "N, M, K = map(int, input().split())\n",
        "arr = list(map(int, input().split()))\n",
        "\n",
        "start_time = time.time()    # 측정 시작\n",
        "\n",
        "arr.sort(reverse=True)\n",
        "answer = 0\n",
        "count = 0\n",
        "\n",
        "for _ in range(M):\n",
        "    if count >= K:\n",
        "        answer += arr[1]\n",
        "        count = 0\n",
        "        continue\n",
        "    else:\n",
        "        answer += arr[0]\n",
        "        count += 1\n",
        "\n",
        "print(answer)\n",
        "\n",
        "end_time = time.time()  # 측정 종료\n",
        "print('time :', end_time - start_time)  # 수행 시간 출력"
      ],
      "execution_count": null,
      "outputs": [
        {
          "output_type": "stream",
          "text": [
            "5 8 3\n",
            "2 4 5 4 6\n",
            "46\n",
            "time : 0.00025582313537597656\n"
          ],
          "name": "stdout"
        }
      ]
    },
    {
      "cell_type": "markdown",
      "metadata": {
        "id": "rDWvmEkVJbCC",
        "colab_type": "text"
      },
      "source": [
        "### 숫자 카드 게임"
      ]
    },
    {
      "cell_type": "code",
      "metadata": {
        "id": "_OqTZpdelaym",
        "colab_type": "code",
        "colab": {
          "base_uri": "https://localhost:8080/",
          "height": 108
        },
        "outputId": "7326d101-4c59-4fd0-8432-98b95cb3444c"
      },
      "source": [
        "# 3 3\n",
        "# 3 1 2\n",
        "# 4 1 4\n",
        "# 2 2 2\n",
        "\n",
        "# 2 4\n",
        "# 7 3 1 8\n",
        "# 3 3 3 4\n",
        "\n",
        "import time\n",
        "\n",
        "# data input\n",
        "N, M = map(int, input().split())\n",
        "matrix = []\n",
        "for i in range(N):\n",
        "    row = list(map(int, input().split()))\n",
        "    matrix.append(row)\n",
        "\n",
        "start_time = time.time()    # 측정 시작\n",
        "\n",
        "# algorithm\n",
        "min_per_row = []\n",
        "for i in range(N):\n",
        "    min_per_row.append(min(matrix[i]))\n",
        "print(max(min_per_row))\n",
        "\n",
        "end_time = time.time()  # 측정 종료\n",
        "print('time :', end_time - start_time)  # 수행 시간 출력"
      ],
      "execution_count": 5,
      "outputs": [
        {
          "output_type": "stream",
          "text": [
            "2 4\n",
            "7 3 1 8\n",
            "3 3 3 4\n",
            "3\n",
            "time : 0.0007107257843017578\n"
          ],
          "name": "stdout"
        }
      ]
    },
    {
      "cell_type": "markdown",
      "metadata": {
        "id": "BSteQZRfqXQ7",
        "colab_type": "text"
      },
      "source": [
        "*Note*<br>\n",
        ">input과 동시에 알고리즘을 처리하는 방법 기억"
      ]
    },
    {
      "cell_type": "markdown",
      "metadata": {
        "id": "Sxpg_sPeJddH",
        "colab_type": "text"
      },
      "source": [
        "### 1이 될 때까지"
      ]
    },
    {
      "cell_type": "code",
      "metadata": {
        "id": "5xbPJ_TjJfnK",
        "colab_type": "code",
        "colab": {
          "base_uri": "https://localhost:8080/",
          "height": 71
        },
        "outputId": "4facbc63-1463-4544-e3e6-a352826a22a8"
      },
      "source": [
        "import time\n",
        "\n",
        "# data input\n",
        "n, k = map(int, input().split())\n",
        "\n",
        "start_time = time.time()    # 측정 시작\n",
        "\n",
        "# algorithm\n",
        "cnt = 0\n",
        "\n",
        "while n != 1:\n",
        "    while n%k != 0:\n",
        "        n -= 1\n",
        "        cnt += 1\n",
        "    n = n//k            # n //=k\n",
        "    cnt += 1\n",
        "print(cnt)\n",
        "\n",
        "end_time = time.time()  # 측정 종료\n",
        "print('time :', end_time - start_time)  # 수행 시간 출력"
      ],
      "execution_count": 8,
      "outputs": [
        {
          "output_type": "stream",
          "text": [
            "17 4\n",
            "3\n",
            "time : 0.00025177001953125\n"
          ],
          "name": "stdout"
        }
      ]
    },
    {
      "cell_type": "markdown",
      "metadata": {
        "id": "x1JPyQN7uP-W",
        "colab_type": "text"
      },
      "source": [
        "*Note*<br>\n",
        ">문제에서는 N의 범위가 10만 이하이므로, 이처럼 일일이 1씩 빼도 문제를 해결할 수 있다. 하지만 N이 100억 이상의 큰 수가 되는 경우를 가정했을 때에도 빠르게 동작하려면, N이 K의 배수가 되도록 효율적으로 한 번에 빼는 방식으로 소스코드를 작성할 수 있다."
      ]
    },
    {
      "cell_type": "markdown",
      "metadata": {
        "id": "Zb0hhBdas846",
        "colab_type": "text"
      },
      "source": [
        "```python\n",
        "while True:\n",
        "    # (N == K로 나누어떨어지는 수)가 될 때까지 1씩 빼기\n",
        "    target = (n // k) * k\n",
        "    result += (n - target)\n",
        "    n = target\n",
        "    # N이 K보다 작을 때(더 이상 나눌 수 없을 때) 반복문 탈출\n",
        "    if n < k:\n",
        "        break\n",
        "    # K로 나누기\n",
        "    result += 1\n",
        "    n //= k\n",
        "\n",
        "# 마지막으로 남은 수에 대하여 1씩 빼기\n",
        "result += (n - 1)\n",
        "print(result)\n",
        "```"
      ]
    },
    {
      "cell_type": "markdown",
      "metadata": {
        "id": "hE_2LBqRu5DC",
        "colab_type": "text"
      },
      "source": [
        "### 모험가 길드"
      ]
    },
    {
      "cell_type": "code",
      "metadata": {
        "id": "aeJBYna-xP8v",
        "colab_type": "code",
        "colab": {
          "base_uri": "https://localhost:8080/",
          "height": 89
        },
        "outputId": "bfafc915-7c5f-422a-ed80-24210c433e88"
      },
      "source": [
        "##### failed solution\n",
        "\n",
        "import time\n",
        "\n",
        "# data input\n",
        "n = int(input())\n",
        "arr = list(map(int, input().split()))\n",
        "\n",
        "start_time = time.time()\n",
        "\n",
        "# sol\n",
        "cnt = 0\n",
        "arr.sort()\n",
        "length = len(arr)\n",
        "while length != 0:\n",
        "    need_member = arr[-1]\n",
        "    if length < need_member:\n",
        "        break\n",
        "    for _ in range(need_member):\n",
        "        arr.pop()\n",
        "    cnt += 1\n",
        "    length = len(arr)\n",
        "print(cnt)\n",
        "\n",
        "end_time = time.time()\n",
        "print('time :', end_time - start_time)  # 수행 시간 출력"
      ],
      "execution_count": 3,
      "outputs": [
        {
          "output_type": "stream",
          "text": [
            "5\n",
            "2 3 1 2 2\n",
            "2\n",
            "time : 0.00034117698669433594\n"
          ],
          "name": "stdout"
        }
      ]
    },
    {
      "cell_type": "code",
      "metadata": {
        "id": "zDvFP42K1RE4",
        "colab_type": "code",
        "colab": {
          "base_uri": "https://localhost:8080/",
          "height": 89
        },
        "outputId": "fdb200d8-0fdb-4d9d-aedb-8acacbed7109"
      },
      "source": [
        "##### retry sol\n",
        "\n",
        "import time\n",
        "\n",
        "# data input\n",
        "n = int(input())\n",
        "arr = list(map(int, input().split()))\n",
        "\n",
        "start_time = time.time()\n",
        "\n",
        "# sol\n",
        "arr.sort()\n",
        "idx = 0\n",
        "cnt = 0\n",
        "\n",
        "while True:\n",
        "    level = arr[idx]\n",
        "    try:\n",
        "        group = arr[idx:idx+level]\n",
        "    except:\n",
        "        break\n",
        "    if max(group) > level:\n",
        "        break\n",
        "    cnt += 1\n",
        "    idx += level\n",
        "    if idx > n:\n",
        "        break\n",
        "print(cnt)\n",
        "\n",
        "end_time = time.time()\n",
        "print('time :', end_time - start_time)"
      ],
      "execution_count": 8,
      "outputs": [
        {
          "output_type": "stream",
          "text": [
            "5\n",
            "2 3 1 2 2\n",
            "2\n",
            "time : 0.00041222572326660156\n"
          ],
          "name": "stdout"
        }
      ]
    },
    {
      "cell_type": "code",
      "metadata": {
        "id": "WzlskEdQ87zn",
        "colab_type": "code",
        "colab": {
          "base_uri": "https://localhost:8080/",
          "height": 71
        },
        "outputId": "86867a2d-5d7e-4fd1-88fe-191fc8140576"
      },
      "source": [
        "##### author sol\n",
        "\n",
        "n = int(input())\n",
        "data = list(map(int, input().split()))\n",
        "data.sort()\n",
        "\n",
        "result = 0 # 총 그룹의 수\n",
        "count = 0 # 현재 그룹에 포함된 모험가의 수\n",
        "\n",
        "for i in data: # 공포도를 낮은 것부터 하나씩 확인하며\n",
        "    count += 1 # 현재 그룹에 해당 모험가를 포함시키기\n",
        "    if count >= i: # 현재 그룹에 포함된 모험가의 수가 현재의 공포도 이상이라면, 그룹 결성\n",
        "        result += 1 # 총 그룹의 수 증가시키기\n",
        "        count = 0 # 현재 그룹에 포함된 모험가의 수 초기화\n",
        "\n",
        "print(result) # 총 그룹의 수 출력"
      ],
      "execution_count": 9,
      "outputs": [
        {
          "output_type": "stream",
          "text": [
            "5\n",
            "2 3 1 2 2\n",
            "2\n"
          ],
          "name": "stdout"
        }
      ]
    },
    {
      "cell_type": "markdown",
      "metadata": {
        "id": "sNEMZPJt03J1",
        "colab_type": "text"
      },
      "source": [
        "*Note*<br>\n",
        "> 자신이 찾아낸 솔루션이 최적의 솔루션인지를 문제와 함께 검토해볼 것, 어쩌면 최적의 솔루션이 아닌 하나의 방법에 지나지 않을 수 있다."
      ]
    },
    {
      "cell_type": "markdown",
      "metadata": {
        "id": "XmuQPDrSv3IM",
        "colab_type": "text"
      },
      "source": [
        "### 곱하기 혹은 더하기"
      ]
    },
    {
      "cell_type": "markdown",
      "metadata": {
        "id": "aon5WRl2v_gJ",
        "colab_type": "text"
      },
      "source": [
        "### 문자열 뒤집기"
      ]
    },
    {
      "cell_type": "markdown",
      "metadata": {
        "id": "i4H1LTVfwAzD",
        "colab_type": "text"
      },
      "source": [
        "### 만들 수 없는 금액"
      ]
    },
    {
      "cell_type": "markdown",
      "metadata": {
        "id": "vlRS5LHvwCi_",
        "colab_type": "text"
      },
      "source": [
        "### 볼링공 고르기"
      ]
    },
    {
      "cell_type": "markdown",
      "metadata": {
        "id": "iptudYfIwDvM",
        "colab_type": "text"
      },
      "source": [
        "### 무지의 먹방 라이브"
      ]
    }
  ]
}