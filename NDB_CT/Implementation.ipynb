{
  "nbformat": 4,
  "nbformat_minor": 0,
  "metadata": {
    "colab": {
      "name": "Implementation.ipynb",
      "provenance": [],
      "collapsed_sections": [],
      "authorship_tag": "ABX9TyNU0/BSEwha8yqWBR6fA4zV"
    },
    "kernelspec": {
      "name": "python3",
      "display_name": "Python 3"
    }
  },
  "cells": [
    {
      "cell_type": "markdown",
      "metadata": {
        "id": "3VyRLsqi0jq4",
        "colab_type": "text"
      },
      "source": [
        "### 상하좌우"
      ]
    },
    {
      "cell_type": "code",
      "metadata": {
        "id": "RBT1KWeP3PF6",
        "colab_type": "code",
        "colab": {
          "base_uri": "https://localhost:8080/",
          "height": 89
        },
        "outputId": "91bef1bb-0e6d-46c8-b9ce-4f1388c31bd4"
      },
      "source": [
        "import time\n",
        "import numpy as np\n",
        "\n",
        "# data input\n",
        "n = int(input())\n",
        "directions = list(input().split())\n",
        "\n",
        "start_time = time.time()\n",
        "\n",
        "# sol\n",
        "def to_direction(direction):\n",
        "    if direction == 'R':\n",
        "        return R\n",
        "    elif direction == 'L':\n",
        "        return L\n",
        "    elif direction == 'U':\n",
        "        return U\n",
        "    else:\n",
        "        return D\n",
        "\n",
        "pos = np.array([1,1])\n",
        "R = np.array([0,1])\n",
        "L = np.array([0,-1])\n",
        "U = np.array([-1,0])\n",
        "D = np.array([1,0])\n",
        "\n",
        "for direction in directions:\n",
        "    direction = to_direction(direction)\n",
        "    pos_ = pos + direction\n",
        "    if pos_[0]>=1 and pos_[0]<=n and pos_[1]>=1 and pos_[1]<=n:\n",
        "        pos = pos_\n",
        "    else:\n",
        "        continue\n",
        "print(pos[0], pos[1])\n",
        "\n",
        "end_time = time.time()\n",
        "print('time :', end_time-start_time)"
      ],
      "execution_count": 4,
      "outputs": [
        {
          "output_type": "stream",
          "text": [
            "5\n",
            "R R R U D D\n",
            "3 4\n",
            "time : 0.0013256072998046875\n"
          ],
          "name": "stdout"
        }
      ]
    },
    {
      "cell_type": "markdown",
      "metadata": {
        "id": "zIoa5iXH4vTV",
        "colab_type": "text"
      },
      "source": [
        "*Note*<br>\n",
        "> 이동 방향 문제는 dx, dy를 통해 쉽게 접근할 수 있다.<br>\n",
        "```python\n",
        "dx = [0, 0, -1, 1]\n",
        "dy = [-1, 1, 0, 0]\n",
        "move_types = ['L', 'R', 'U', 'D']\n",
        "```\n",
        "L인 경우, (x + dx[0], y + dy[0])"
      ]
    },
    {
      "cell_type": "markdown",
      "metadata": {
        "id": "PQSeu6Bz78VN",
        "colab_type": "text"
      },
      "source": [
        "### 시각"
      ]
    },
    {
      "cell_type": "code",
      "metadata": {
        "id": "_mK476_08FLr",
        "colab_type": "code",
        "colab": {
          "base_uri": "https://localhost:8080/",
          "height": 71
        },
        "outputId": "5cd82a75-b1bb-4c57-d13f-0bc20c227241"
      },
      "source": [
        "import time\n",
        "\n",
        "# data input\n",
        "n = int(input())\n",
        "\n",
        "start_time = time.time()\n",
        "\n",
        "# sol\n",
        "cnt = 0\n",
        "for i in range(n+1):\n",
        "    for j in range(60):\n",
        "        for k in range(60):\n",
        "            timer = str(i) + str(j) + str(k)\n",
        "            if '3' in timer:\n",
        "                cnt += 1\n",
        "print(cnt)\n",
        "\n",
        "end_time = time.time()\n",
        "print('time: ', end_time - start_time)"
      ],
      "execution_count": 5,
      "outputs": [
        {
          "output_type": "stream",
          "text": [
            "5\n",
            "11475\n",
            "time:  0.016145944595336914\n"
          ],
          "name": "stdout"
        }
      ]
    },
    {
      "cell_type": "markdown",
      "metadata": {
        "id": "zAthguV59JUd",
        "colab_type": "text"
      },
      "source": [
        "*Note*<br>\n",
        "> N의 범위가 500 이하면 3중 for문 고려 가능"
      ]
    },
    {
      "cell_type": "markdown",
      "metadata": {
        "id": "mhNtzHfx9pZB",
        "colab_type": "text"
      },
      "source": [
        "### 왕실의 나이트"
      ]
    },
    {
      "cell_type": "code",
      "metadata": {
        "id": "I1_rU5Qb9ulP",
        "colab_type": "code",
        "colab": {
          "base_uri": "https://localhost:8080/",
          "height": 71
        },
        "outputId": "e81eecc4-67fe-4d12-e39e-01a6d31c927c"
      },
      "source": [
        "import time\n",
        "\n",
        "# data input\n",
        "c_pos = input()\n",
        "\n",
        "start_time = time.time()\n",
        "\n",
        "# sol\n",
        "v = int(c_pos[1])\n",
        "h = ord(c_pos[0]) - ord('a') + 1\n",
        "cnt = 0\n",
        "\n",
        "move_list = [[2,1],[2,-1],[1,2],[1,-1],[-2,1],[-2,-1],[-1,2],[-1,-2]]\n",
        "pos_list = []\n",
        "for move in move_list:\n",
        "    pos_list.append([v+move[0],h+move[1]])\n",
        "for pos in pos_list:\n",
        "    if pos[0] >=1 and pos[0] <= 8 and pos[1] >=1 and pos[1] <= 8:\n",
        "        cnt += 1\n",
        "print(cnt)\n",
        "\n",
        "end_time = time.time()\n",
        "print('time :', end_time - start_time)"
      ],
      "execution_count": 9,
      "outputs": [
        {
          "output_type": "stream",
          "text": [
            "c2\n",
            "6\n",
            "time : 0.00038695335388183594\n"
          ],
          "name": "stdout"
        }
      ]
    },
    {
      "cell_type": "markdown",
      "metadata": {
        "id": "2SbIPaOi9sT9",
        "colab_type": "text"
      },
      "source": [
        "### 게임 개발"
      ]
    },
    {
      "cell_type": "code",
      "metadata": {
        "id": "640qRLQiFaj5",
        "colab_type": "code",
        "colab": {
          "base_uri": "https://localhost:8080/",
          "height": 144
        },
        "outputId": "19b37025-438e-4e53-c72e-0b50c7c29406"
      },
      "source": [
        "# data input\n",
        "n, m = map(int, input().split())\n",
        "x, y, direction = map(int, input().split())\n",
        "road_map = []\n",
        "for _ in range(n):\n",
        "    road_map.append(list(map(int, input().split())))\n",
        "\n",
        "# sol\n",
        "before_sum = sum([sum(_) for _ in road_map])\n",
        "dx = [-1,0,1,0]\n",
        "dy = [0,1,0,-1]\n",
        "road_map[x][y]=1\n",
        "while True:\n",
        "    cnt = 0\n",
        "    while True:\n",
        "        direction -= 1\n",
        "        n_x, n_y = x+dx[direction%4], y+dy[direction%4]\n",
        "        if road_map[n_x][n_y] == 0:\n",
        "            road_map[n_x][n_y] = 1\n",
        "            x, y = n_x, n_y\n",
        "            cnt = 0\n",
        "            continue\n",
        "        else:\n",
        "            direction -= 1\n",
        "            cnt += 1\n",
        "            if cnt == 4:\n",
        "                break\n",
        "    n_x, n_y = x+dx[(direction+2)%4], y+dy[(direction+2)%4]\n",
        "    if road_map[n_x][n_y] == 1:\n",
        "        break\n",
        "    x, y = n_x, n_y\n",
        "after_sum = sum([sum(_) for _ in road_map])\n",
        "print(after_sum - before_sum)"
      ],
      "execution_count": 25,
      "outputs": [
        {
          "output_type": "stream",
          "text": [
            "4 4\n",
            "1 1 0\n",
            "1 1 1 1\n",
            "1 0 0 1\n",
            "1 1 0 1\n",
            "1 1 1 1\n",
            "3\n"
          ],
          "name": "stdout"
        }
      ]
    },
    {
      "cell_type": "markdown",
      "metadata": {
        "id": "EDHym8XmH1P9",
        "colab_type": "text"
      },
      "source": [
        "*Note*<br>\n",
        "> 일반적으로 방향을 설정해서 이동하는 문제 유형에서는 dx, dy라는별도의 리스트를 만들어 방향을 정하는 것이 효과적이다."
      ]
    },
    {
      "cell_type": "markdown",
      "metadata": {
        "id": "oSCdQMuMUmeZ",
        "colab_type": "text"
      },
      "source": [
        "*Note*<br>\n",
        "> 왼쪽으로 회전하는 direction 설정 팁(circular)\n",
        "```python\n",
        "def turn_left():\n",
        "    global direction\n",
        "    direction -= 1\n",
        "    if direction == -1:\n",
        "        direction = 3\n",
        "```"
      ]
    }
  ]
}