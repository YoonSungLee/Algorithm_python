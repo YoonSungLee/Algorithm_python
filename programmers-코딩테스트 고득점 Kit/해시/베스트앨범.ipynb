{
 "cells": [
  {
   "cell_type": "markdown",
   "metadata": {},
   "source": [
    "https://programmers.co.kr/learn/courses/30/lessons/42579#qna"
   ]
  },
  {
   "cell_type": "markdown",
   "metadata": {},
   "source": [
    "# Note"
   ]
  },
  {
   "cell_type": "markdown",
   "metadata": {},
   "source": [
    "dict value 값들 중 max, min값 찾기(value)"
   ]
  },
  {
   "cell_type": "code",
   "execution_count": 1,
   "metadata": {},
   "outputs": [
    {
     "name": "stdout",
     "output_type": "stream",
     "text": [
      "10 30\n"
     ]
    }
   ],
   "source": [
    "my_dict = {'x':10, 'y':30, 'z':20}\n",
    "\n",
    "dic_min = min(my_dict.values())\n",
    "dic_max = max(my_dict.values())\n",
    "print(dic_min, dic_max)"
   ]
  },
  {
   "cell_type": "markdown",
   "metadata": {},
   "source": [
    "dict value 값들 중 max, min값 찾기(key)"
   ]
  },
  {
   "cell_type": "code",
   "execution_count": 2,
   "metadata": {},
   "outputs": [
    {
     "name": "stdout",
     "output_type": "stream",
     "text": [
      "Max - y 30\n",
      "Min - x 10\n"
     ]
    }
   ],
   "source": [
    "my_dict = {'x':10, 'y':30, 'z':20}\n",
    "\n",
    "def f1(x):\n",
    "    return my_dict[x]\n",
    "\n",
    "key_max = max(my_dict.keys(), key=f1)\n",
    "key_min = min(my_dict.keys(), key=(lambda k:my_dict[k]))\n",
    "print('Max -',key_max,my_dict[key_max])\n",
    "print('Min -',key_min,my_dict[key_min])"
   ]
  },
  {
   "cell_type": "markdown",
   "metadata": {},
   "source": [
    "# Solution"
   ]
  },
  {
   "cell_type": "code",
   "execution_count": null,
   "metadata": {},
   "outputs": [],
   "source": [
    "# YoonSungLee\n",
    "\n",
    "def solution(genres, plays):\n",
    "    all_dict = dict()\n",
    "    for i in range(len(genres)):\n",
    "        all_dict[i] = [genres[i],plays[i]]\n",
    "        \n",
    "    genre_dict = {}\n",
    "    for i, genre in enumerate(genres):\n",
    "        if genre not in genre_dict:\n",
    "            genre_dict[genre] = plays[i]\n",
    "        else:\n",
    "            genre_dict[genre] += plays[i]\n",
    "    genre_dict = sorted(genre_dict.items(), key=(lambda x:x[1]),reverse=True)\n",
    "    \n",
    "    answer = []\n",
    "    for genre in genre_dict:\n",
    "        tmp_rank = dict()\n",
    "        for target in all_dict:\n",
    "            if genre[0] == all_dict[target][0]:\n",
    "                tmp_rank[target] = all_dict[target][1]\n",
    "        tmp_rank = sorted(tmp_rank.items(), key=(lambda x:x[1]), reverse=True)\n",
    "        if len(tmp_rank)==1:    # 장르에 속한 곡이 하나라면, 하나의 곡만 선택합니다.\n",
    "            answer.append(tmp_rank[0][0])\n",
    "        else:\n",
    "            for i in range(2):\n",
    "                answer.append(tmp_rank[i][0])\n",
    "    return answer"
   ]
  },
  {
   "cell_type": "code",
   "execution_count": null,
   "metadata": {},
   "outputs": [],
   "source": [
    "# 박경준 , 김재홍\n",
    "\n",
    "def solution(genres, plays):\n",
    "    answer = []\n",
    "    dic = {}\n",
    "    album_list = []\n",
    "    for i in range(len(genres)):\n",
    "        dic[genres[i]] = dic.get(genres[i], 0) + plays[i] # 딕셔너리 안에 찾으려는 Key 값이 없을 경우 미리 정해 둔 디폴트 값을 대신 가져오게 하고 싶을 때에는 get(x, '디폴트 값')을 사용하면 편리하다.\n",
    "        album_list.append(album(genres[i], plays[i], i))\n",
    "\n",
    "    dic = sorted(dic.items(), key=lambda dic:dic[1], reverse=True)\n",
    "    album_list = sorted(album_list, reverse=True)\n",
    "\n",
    "\n",
    "\n",
    "    while len(dic) > 0:\n",
    "        play_genre = dic.pop(0)\n",
    "        print(play_genre)\n",
    "        cnt = 0;\n",
    "        for ab in album_list:\n",
    "            if play_genre[0] == ab.genre:\n",
    "                answer.append(ab.track)\n",
    "                cnt += 1\n",
    "            if cnt == 2:\n",
    "                break\n",
    "\n",
    "    return answer\n",
    "\n",
    "class album:\n",
    "    def __init__(self, genre, play, track):\n",
    "        self.genre = genre\n",
    "        self.play = play\n",
    "        self.track = track\n",
    "\n",
    "    def __lt__(self, other):\n",
    "        return self.play < other.play\n",
    "    def __le__(self, other):\n",
    "        return self.play <= other.play\n",
    "    def __gt__(self, other):\n",
    "        return self.play > other.play\n",
    "    def __ge__(self, other):\n",
    "        return self.play >= other.play\n",
    "    def __eq__(self, other):\n",
    "        return self.play == other.play\n",
    "    def __ne__(self, other):\n",
    "        return self.play != other.play"
   ]
  }
 ],
 "metadata": {
  "kernelspec": {
   "display_name": "Python 3",
   "language": "python",
   "name": "python3"
  },
  "language_info": {
   "codemirror_mode": {
    "name": "ipython",
    "version": 3
   },
   "file_extension": ".py",
   "mimetype": "text/x-python",
   "name": "python",
   "nbconvert_exporter": "python",
   "pygments_lexer": "ipython3",
   "version": "3.7.3"
  }
 },
 "nbformat": 4,
 "nbformat_minor": 2
}
