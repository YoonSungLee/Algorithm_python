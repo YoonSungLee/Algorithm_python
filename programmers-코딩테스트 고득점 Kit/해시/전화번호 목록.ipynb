{
 "cells": [
  {
   "cell_type": "markdown",
   "metadata": {},
   "source": [
    "https://programmers.co.kr/learn/courses/30/lessons/42577"
   ]
  },
  {
   "cell_type": "markdown",
   "metadata": {},
   "source": [
    "# Note"
   ]
  },
  {
   "cell_type": "markdown",
   "metadata": {},
   "source": [
    "list 값들의 length에 따라서 정렬(sort)하기"
   ]
  },
  {
   "cell_type": "code",
   "execution_count": null,
   "metadata": {},
   "outputs": [],
   "source": [
    "def Sorting(lst):\n",
    "    lst2 = sorted(lst, key=len)\n",
    "    return lst2\n",
    "\n",
    "def Sorting(lst):\n",
    "    lst.sort(key=len)\n",
    "    return lst\n",
    "\n",
    "# 내림차순으로 정렬하기\n",
    "\n",
    "def Sorting(lst):\n",
    "    lst2 = sorted(lst, key=len, reverse=True)\n",
    "    return lst2\n",
    "\n",
    "def Sorting(lst):\n",
    "    lst.sort(key=len, reverse=True)\n",
    "    return lst"
   ]
  },
  {
   "cell_type": "markdown",
   "metadata": {},
   "source": [
    "파이썬 공백 제거"
   ]
  },
  {
   "cell_type": "code",
   "execution_count": null,
   "metadata": {},
   "outputs": [],
   "source": [
    "str.lstrip() # 왼쪽 공백 제거\n",
    "str.rstrip() # 오른쪽 공백 제거\n",
    "str.strip() # 양쪽 공백 제거\n",
    "str.replace(\" \",\"\") # 모두 공백 제거"
   ]
  },
  {
   "cell_type": "markdown",
   "metadata": {},
   "source": [
    "# Solution"
   ]
  },
  {
   "cell_type": "code",
   "execution_count": null,
   "metadata": {},
   "outputs": [],
   "source": [
    "# YoonSungLee\n",
    "\n",
    "def solution(phone_book):\n",
    "    _phone_book = sorted(phone_book, key=len)\n",
    "    for i in range(len(_phone_book)):\n",
    "        for j in range(i+1,len(_phone_book)):\n",
    "            if _phone_book[i] == _phone_book[j][0:len(_phone_book[i])]:\n",
    "                return False\n",
    "    return True"
   ]
  },
  {
   "cell_type": "code",
   "execution_count": null,
   "metadata": {},
   "outputs": [],
   "source": [
    "# Ryan , 정종택 , - , Dolpario , - 외 55 명\n",
    "\n",
    "def solution(phoneBook):\n",
    "    phoneBook = sorted(phoneBook)\n",
    "\n",
    "    for p1, p2 in zip(phoneBook, phoneBook[1:]):\n",
    "        if p2.startswith(p1):\n",
    "            return False\n",
    "    return True"
   ]
  }
 ],
 "metadata": {
  "kernelspec": {
   "display_name": "Python 3",
   "language": "python",
   "name": "python3"
  },
  "language_info": {
   "codemirror_mode": {
    "name": "ipython",
    "version": 3
   },
   "file_extension": ".py",
   "mimetype": "text/x-python",
   "name": "python",
   "nbconvert_exporter": "python",
   "pygments_lexer": "ipython3",
   "version": "3.7.3"
  }
 },
 "nbformat": 4,
 "nbformat_minor": 2
}
