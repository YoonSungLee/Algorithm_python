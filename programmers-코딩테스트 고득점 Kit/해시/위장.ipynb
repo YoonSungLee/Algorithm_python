{
 "cells": [
  {
   "cell_type": "markdown",
   "metadata": {},
   "source": [
    "https://programmers.co.kr/learn/courses/30/lessons/42578"
   ]
  },
  {
   "cell_type": "markdown",
   "metadata": {},
   "source": [
    "# Solution"
   ]
  },
  {
   "cell_type": "code",
   "execution_count": null,
   "metadata": {},
   "outputs": [],
   "source": [
    "# YoonSungLee\n",
    "\n",
    "def solution(clothes):\n",
    "    dic = {}\n",
    "    for cloth in clothes:\n",
    "        if cloth[1] not in dic:\n",
    "            dic[cloth[1]] = 1\n",
    "        else:\n",
    "            dic[cloth[1]] += 1\n",
    "    answer = 1\n",
    "    for cloth in dic:\n",
    "        answer *= (dic[cloth]+1)\n",
    "    return answer-1"
   ]
  },
  {
   "cell_type": "code",
   "execution_count": null,
   "metadata": {},
   "outputs": [],
   "source": [
    "# 박준건 , 김성식 , 김진주 , 허찬영 , 정지원 외 2 명\n",
    "\n",
    "def solution(clothes):\n",
    "    clothes_type = {}\n",
    "\n",
    "    for c, t in clothes:\n",
    "        if t not in clothes_type:\n",
    "            clothes_type[t] = 2\n",
    "        else:\n",
    "            clothes_type[t] += 1\n",
    "\n",
    "    cnt = 1\n",
    "    for num in clothes_type.values():\n",
    "        cnt *= num\n",
    "\n",
    "    return cnt - 1"
   ]
  }
 ],
 "metadata": {
  "kernelspec": {
   "display_name": "Python 3",
   "language": "python",
   "name": "python3"
  },
  "language_info": {
   "codemirror_mode": {
    "name": "ipython",
    "version": 3
   },
   "file_extension": ".py",
   "mimetype": "text/x-python",
   "name": "python",
   "nbconvert_exporter": "python",
   "pygments_lexer": "ipython3",
   "version": "3.7.3"
  }
 },
 "nbformat": 4,
 "nbformat_minor": 2
}
