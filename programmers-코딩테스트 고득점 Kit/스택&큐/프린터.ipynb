{
 "cells": [
  {
   "cell_type": "markdown",
   "metadata": {},
   "source": [
    "https://programmers.co.kr/learn/courses/30/lessons/42587"
   ]
  },
  {
   "cell_type": "markdown",
   "metadata": {},
   "source": [
    "# Solution"
   ]
  },
  {
   "cell_type": "code",
   "execution_count": null,
   "metadata": {},
   "outputs": [],
   "source": [
    "# YoonSungLee\n",
    "\n",
    "def solution(priorities, location):\n",
    "    index_box = list(range(len(priorities)))    # index와 prior의 정보를 가지는 리스트를 각자 생성\n",
    "    sorted_box = []\n",
    "    length = len(priorities)    # 시간복잡도를 줄이기 위해 리스트의 원소의 개수를 미리 계산하여 변수로 선언\n",
    "    while length != 0:\n",
    "        index = index_box.pop(0)\n",
    "        prior = priorities[0]    # priorities.pop(0)의 형태로 하면 중복연산을 줄일 수 있지만, if문의 max(priorities)를 수행하기 위해서 원소를 pop하지 않고 index로 접근\n",
    "        if prior>=max(priorities):    # 해당 prior의 우선순위가 제일 높으면\n",
    "            sorted_box.append(index)\n",
    "            priorities.pop(0)\n",
    "            length -= 1\n",
    "        else:    # 해당 prior의 우선순위보다 더 높은 우선순위가 존재한다면\n",
    "            index_box.append(index)\n",
    "            priorities.append(priorities.pop(0))\n",
    "    return sorted_box.index(location) + 1    # 몇 번째가 질문이므로 (인덱스의 위치) + 1"
   ]
  },
  {
   "cell_type": "code",
   "execution_count": null,
   "metadata": {},
   "outputs": [],
   "source": [
    "# Chanwoo Noh , 김신학 , 김수현 , - , - 외 64 명\n",
    "\n",
    "def solution(p, l):\n",
    "    ans = 0\n",
    "    m = max(p)\n",
    "    while True:\n",
    "        v = p.pop(0)\n",
    "        if m == v:\n",
    "            ans += 1\n",
    "            if l == 0:\n",
    "                break\n",
    "            else:\n",
    "                l -= 1\n",
    "            m = max(p)\n",
    "        else:\n",
    "            p.append(v)\n",
    "            if l == 0:\n",
    "                l = len(p)-1\n",
    "            else:\n",
    "                l -= 1\n",
    "    return ans"
   ]
  }
 ],
 "metadata": {
  "kernelspec": {
   "display_name": "Python 3",
   "language": "python",
   "name": "python3"
  },
  "language_info": {
   "codemirror_mode": {
    "name": "ipython",
    "version": 3
   },
   "file_extension": ".py",
   "mimetype": "text/x-python",
   "name": "python",
   "nbconvert_exporter": "python",
   "pygments_lexer": "ipython3",
   "version": "3.7.3"
  }
 },
 "nbformat": 4,
 "nbformat_minor": 2
}
