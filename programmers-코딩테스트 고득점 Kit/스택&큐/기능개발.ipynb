{
 "cells": [
  {
   "cell_type": "markdown",
   "metadata": {},
   "source": [
    "https://programmers.co.kr/learn/courses/30/lessons/42586"
   ]
  },
  {
   "cell_type": "markdown",
   "metadata": {},
   "source": [
    "# Note"
   ]
  },
  {
   "cell_type": "markdown",
   "metadata": {},
   "source": [
    "파이썬 반올림, 올림, 내림 연산"
   ]
  },
  {
   "cell_type": "code",
   "execution_count": null,
   "metadata": {},
   "outputs": [],
   "source": [
    "# round(n, r) 의 값은 숫자 n의 소수점 r 번째 자리에서 반올림 연산을 실행합니다.\n",
    "\n",
    "a = 2\n",
    "b = 3\n",
    "print(round(a/b, 3)) # 실행결과 0.667\n",
    "\n",
    "# round() 함수는 좀 더 가까운 짝수값으로 올림연산을 합니다.\n",
    "# 아래의 경우 반올림 연산이 실행되는 숫자가 둘다 '5' 인데도 윗 코드는 내림 연산을, 아랫코드는 올림연산을 하는 것을 볼 수 있습니다.\n",
    "\n",
    "print(round(2.5)) # 실행결과 2\n",
    "print(round(3.5)) # 실행결과 4\n",
    "\n",
    "# 두번째 인자에 음수를 사용할 수 도 있습니다. 음수를 사용하면 가장 높은 자리수의 다음 숫자를 반올림합니다.\n",
    "\n",
    "print(round(11, -1)) # 실행결과 10\n",
    "print(round(165, -1)) # 실행결과 160\n",
    "\n",
    "import math\n",
    "\n",
    "print(math.floor(1.1)) # 내림연산, 실행결과 1\n",
    "print(math.floor(1.9)) # 내림연산, 실행결과 1\n",
    "\n",
    "print(math.ceil(1.1)) # 올림연산, 실행결과 2\n",
    "print(math.ceil(1.9)) # 올림연산, 실행결과 2"
   ]
  },
  {
   "cell_type": "markdown",
   "metadata": {},
   "source": [
    "# Solution"
   ]
  },
  {
   "cell_type": "code",
   "execution_count": null,
   "metadata": {},
   "outputs": [],
   "source": [
    "# YoonSungLee\n",
    "\n",
    "import math\n",
    "\n",
    "def solution(progresses, speeds):\n",
    "    period = []    # 개발까지 남은 기간을 보여주는 리스트 정의\n",
    "    for progress, speed in zip(progresses, speeds):\n",
    "        period.append(math.ceil((100-progress)/speed))\n",
    "    \n",
    "    answer = []\n",
    "    length = len(period)    # 시간복잡도 향상을 위해 매번 len()를 호출하는 작업 대신 값을 할당\n",
    "    while length>0:    # period에 값이 있으면 계속 수행\n",
    "        target = period.pop(0)\n",
    "        length -= 1\n",
    "        count = 1\n",
    "        if length==0:    # 방금 선택한 target이 period의 마지막 원소인 경우\n",
    "            answer.append(count)\n",
    "            break\n",
    "        while True:\n",
    "            if period[0] <= target:    # 다음 기능이 이전 기능보다 더 빨리 개발된 경우\n",
    "                period.pop(0)\n",
    "                count += 1\n",
    "                length -= 1\n",
    "                if length==0:    # period의 모든 경우를 확인한 경우\n",
    "                    answer.append(count)\n",
    "                    return answer\n",
    "            else:    # 다음 기능이 이전 기능보다 늦게 개발된 경우\n",
    "                answer.append(count)\n",
    "                break\n",
    "    return answer"
   ]
  },
  {
   "cell_type": "code",
   "execution_count": null,
   "metadata": {},
   "outputs": [],
   "source": [
    "# 김동국\n",
    "\n",
    "def solution(progresses, speeds):\n",
    "    print(progresses)\n",
    "    print(speeds)\n",
    "    answer = []\n",
    "    time = 0\n",
    "    count = 0\n",
    "    while len(progresses)> 0:\n",
    "        if (progresses[0] + time*speeds[0]) >= 100:\n",
    "            progresses.pop(0)\n",
    "            speeds.pop(0)\n",
    "            count += 1\n",
    "        else:\n",
    "            if count > 0:\n",
    "                answer.append(count)\n",
    "                count = 0\n",
    "            time += 1\n",
    "    answer.append(count)\n",
    "    return answer"
   ]
  }
 ],
 "metadata": {
  "kernelspec": {
   "display_name": "Python 3",
   "language": "python",
   "name": "python3"
  },
  "language_info": {
   "codemirror_mode": {
    "name": "ipython",
    "version": 3
   },
   "file_extension": ".py",
   "mimetype": "text/x-python",
   "name": "python",
   "nbconvert_exporter": "python",
   "pygments_lexer": "ipython3",
   "version": "3.7.3"
  }
 },
 "nbformat": 4,
 "nbformat_minor": 2
}
