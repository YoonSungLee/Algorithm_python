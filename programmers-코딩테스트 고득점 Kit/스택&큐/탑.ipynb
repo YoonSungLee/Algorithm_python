{
 "cells": [
  {
   "cell_type": "markdown",
   "metadata": {},
   "source": [
    "https://programmers.co.kr/learn/courses/30/lessons/42588"
   ]
  },
  {
   "cell_type": "markdown",
   "metadata": {},
   "source": [
    "# Note"
   ]
  },
  {
   "cell_type": "code",
   "execution_count": 1,
   "metadata": {},
   "outputs": [
    {
     "name": "stdout",
     "output_type": "stream",
     "text": [
      "5 4 3 2 1 "
     ]
    }
   ],
   "source": [
    "for i in range(5,0,-1):\n",
    "    print(i, end=' ')"
   ]
  },
  {
   "cell_type": "code",
   "execution_count": 2,
   "metadata": {},
   "outputs": [],
   "source": [
    "for i in range(5,0):\n",
    "    print(i, end=' ')    # Nothing"
   ]
  },
  {
   "cell_type": "markdown",
   "metadata": {},
   "source": [
    "# Solution"
   ]
  },
  {
   "cell_type": "code",
   "execution_count": null,
   "metadata": {},
   "outputs": [],
   "source": [
    "# YoonSungLee\n",
    "\n",
    "def solution(heights):\n",
    "    answer = []\n",
    "    heights_ = heights[::-1]\n",
    "    for i, height in enumerate(heights_):\n",
    "        for j, height2 in enumerate(heights_[i:]):\n",
    "            if height < height2:\n",
    "                answer.append(len(heights)-(i+j))\n",
    "                break\n",
    "            if i+j==(len(heights)-1):\n",
    "                answer.append(0)\n",
    "                break\n",
    "    return answer[::-1]"
   ]
  },
  {
   "cell_type": "code",
   "execution_count": null,
   "metadata": {},
   "outputs": [],
   "source": [
    "# Chanwoo Noh , 남윤상 , - , Thxios , - 외 87 명\n",
    "\n",
    "def solution(h):\n",
    "    ans = [0] * len(h)\n",
    "    for i in range(len(h)-1, 0, -1):\n",
    "        for j in range(i-1, -1, -1):\n",
    "            if h[i] < h[j]:\n",
    "                ans[i] = j+1\n",
    "                break\n",
    "    return ans"
   ]
  }
 ],
 "metadata": {
  "kernelspec": {
   "display_name": "Python 3",
   "language": "python",
   "name": "python3"
  },
  "language_info": {
   "codemirror_mode": {
    "name": "ipython",
    "version": 3
   },
   "file_extension": ".py",
   "mimetype": "text/x-python",
   "name": "python",
   "nbconvert_exporter": "python",
   "pygments_lexer": "ipython3",
   "version": "3.7.3"
  }
 },
 "nbformat": 4,
 "nbformat_minor": 2
}
