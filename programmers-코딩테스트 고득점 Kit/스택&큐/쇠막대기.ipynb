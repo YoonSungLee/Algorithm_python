{
 "cells": [
  {
   "cell_type": "markdown",
   "metadata": {},
   "source": [
    "https://programmers.co.kr/learn/courses/30/lessons/42585?language=python3"
   ]
  },
  {
   "cell_type": "markdown",
   "metadata": {},
   "source": [
    "# Solution"
   ]
  },
  {
   "cell_type": "code",
   "execution_count": null,
   "metadata": {},
   "outputs": [],
   "source": [
    "# YoonSungLee\n",
    "\n",
    "def solution(arrangement):\n",
    "    stack = []\n",
    "    answer = 0\n",
    "    laser = True                          # 레이저가 있을 가능성을 boolean으로 정의\n",
    "    for sign in arrangement:\n",
    "        if sign == '(':\n",
    "            stack.append(sign)\n",
    "            laser = True                  # 다음 sign이 ')'이면 레이저일 가능성이 있으므로 True로 전환\n",
    "        else:\n",
    "            if laser:\n",
    "                stack.pop()\n",
    "                answer += len(stack)\n",
    "            else:\n",
    "                stack.pop()\n",
    "                answer += 1\n",
    "        laser = False                    # 다음 sign이 ')'라고 해서 레이저일 가능성이 없으므로 False로 전환\n",
    "    return answer"
   ]
  },
  {
   "cell_type": "code",
   "execution_count": null,
   "metadata": {},
   "outputs": [],
   "source": [
    "# 곽천웅 , 이예진\n",
    "\n",
    "def solution(arrangement):\n",
    "    answer = 0\n",
    "    sticks = 0\n",
    "    rasor_to_zero = arrangement.replace('()','0')\n",
    "\n",
    "    for i in rasor_to_zero:\n",
    "        if i == '(':\n",
    "            sticks += 1\n",
    "        elif i =='0' :\n",
    "            answer += sticks\n",
    "        else :\n",
    "            sticks -= 1\n",
    "            answer += 1\n",
    "\n",
    "    return answer"
   ]
  },
  {
   "cell_type": "code",
   "execution_count": null,
   "metadata": {},
   "outputs": [],
   "source": [
    "# 윤종석 , - , - , 송일선 , -\n",
    "\n",
    "def solution(arrangement):\n",
    "    answer = 0\n",
    "    stack = 0\n",
    "    laseron = False\n",
    "    for p in arrangement:\n",
    "        if p == '(':\n",
    "            laseron = True\n",
    "            stack += 1\n",
    "        else:\n",
    "            if laseron==True:\n",
    "                answer += stack-1\n",
    "                laseron=False\n",
    "            else:\n",
    "                answer += 1\n",
    "            stack -= 1\n",
    "\n",
    "    return answer"
   ]
  }
 ],
 "metadata": {
  "kernelspec": {
   "display_name": "Python 3",
   "language": "python",
   "name": "python3"
  },
  "language_info": {
   "codemirror_mode": {
    "name": "ipython",
    "version": 3
   },
   "file_extension": ".py",
   "mimetype": "text/x-python",
   "name": "python",
   "nbconvert_exporter": "python",
   "pygments_lexer": "ipython3",
   "version": "3.7.3"
  }
 },
 "nbformat": 4,
 "nbformat_minor": 2
}
