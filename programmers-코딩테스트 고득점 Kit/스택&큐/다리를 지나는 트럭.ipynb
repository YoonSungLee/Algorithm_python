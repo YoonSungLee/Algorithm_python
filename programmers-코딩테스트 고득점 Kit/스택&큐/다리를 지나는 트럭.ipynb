{
 "cells": [
  {
   "cell_type": "markdown",
   "metadata": {},
   "source": [
    "https://programmers.co.kr/learn/courses/30/lessons/42583?language=python3"
   ]
  },
  {
   "cell_type": "markdown",
   "metadata": {},
   "source": [
    "# Solution"
   ]
  },
  {
   "cell_type": "code",
   "execution_count": null,
   "metadata": {},
   "outputs": [],
   "source": [
    "# YoonSungLee\n",
    "\n",
    "def solution(bridge_length, bridge_weight, truck_weights):\n",
    "    bridge = [0]*bridge_length    # 다리 구축\n",
    "    on_weights = 0    # 다리 위에 있는 트럭의 무게들의 합\n",
    "    seconds = 0    # 걸린 시간\n",
    "    \n",
    "    # 대기하는 트럭이 존재하는 경우\n",
    "    while True:\n",
    "        on_weights -= bridge.pop()\n",
    "        if truck_weights[0] <=bridge_weight-on_weights: # sum(any_list): 시간복잡도를 증가시키는 요인, 새로운 변수를 만들어 역할을 대체함으로써 해결 가능\n",
    "            truck = truck_weights.pop(0)\n",
    "            bridge.insert(0, truck)    # 새로운 트럭 입장\n",
    "            on_weights += truck    # 새로운 트럭의 무게 추가\n",
    "        else:\n",
    "            bridge.insert(0,0)    # 트럭 대신 공간 입장\n",
    "        seconds += 1\n",
    "        if len(truck_weights)==0:    # 입장할 트럭이 없는 경우\n",
    "            break\n",
    "    \n",
    "    # 대기하는 트럭이 존재하지 않는 경우\n",
    "    while True:\n",
    "        if on_weights==0:\n",
    "            break\n",
    "        on_weights -= bridge.pop()\n",
    "        seconds += 1\n",
    "\n",
    "    return seconds"
   ]
  }
 ],
 "metadata": {
  "kernelspec": {
   "display_name": "Python 3",
   "language": "python",
   "name": "python3"
  },
  "language_info": {
   "codemirror_mode": {
    "name": "ipython",
    "version": 3
   },
   "file_extension": ".py",
   "mimetype": "text/x-python",
   "name": "python",
   "nbconvert_exporter": "python",
   "pygments_lexer": "ipython3",
   "version": "3.7.3"
  }
 },
 "nbformat": 4,
 "nbformat_minor": 2
}
