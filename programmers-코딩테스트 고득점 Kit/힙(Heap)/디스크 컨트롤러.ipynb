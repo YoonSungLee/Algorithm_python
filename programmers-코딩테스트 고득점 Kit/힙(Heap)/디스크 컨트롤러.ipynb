{
 "cells": [
  {
   "cell_type": "markdown",
   "metadata": {},
   "source": [
    "https://programmers.co.kr/learn/courses/30/lessons/42627"
   ]
  },
  {
   "cell_type": "code",
   "execution_count": null,
   "metadata": {},
   "outputs": [],
   "source": [
    "# YoonSungLee\n",
    "\n",
    "print('I gave up solving this problem')\n",
    "print('The code below is a code that has not solved the problem.')\n",
    "\n",
    "import heapq\n",
    "\n",
    "def solution(jobs):\n",
    "    job_list = jobs.copy()\n",
    "    job_list.copy()\n",
    "    total_len = len(job_list)\n",
    "    time = job_list[0][0]\n",
    "    total_time = 0\n",
    "    current_heap = []\n",
    "    while len(job_list) != 0:\n",
    "        while len(job_list) != 0:\n",
    "            if job_list[0][0] <= time:\n",
    "                job = job_list.pop(0)\n",
    "                heapq.heappush(current_heap, [job[1],job[0]])\n",
    "            else:\n",
    "                break\n",
    "        if len(current_heap)==0:\n",
    "            time = job_list[0][0]\n",
    "        else:\n",
    "            to_job = heapq.heappop(current_heap)\n",
    "            total_time += ((time-to_job[1])+to_job[0])\n",
    "            time += to_job[0]\n",
    "    while len(current_heap)!=0:\n",
    "        to_job = heapq.heappop(current_heap)\n",
    "        total_time += ((time-to_job[1])+to_job[0])\n",
    "        time += to_job[0]\n",
    "    return int(total_time/total_len)"
   ]
  },
  {
   "cell_type": "code",
   "execution_count": null,
   "metadata": {},
   "outputs": [],
   "source": [
    "# https://gurumee92.tistory.com/173\n",
    "\n",
    "def solution(jobs):\n",
    "    import heapq\n",
    "\n",
    "    # 1. jobs 정렬\n",
    "    jobs.sort()\n",
    "    answer = 0\n",
    "    n = 0\n",
    "    # 2. 최초 시간 설정\n",
    "    time = jobs[0][0]\n",
    "    # 3. 우선순위 큐 생성\n",
    "    pq = []\n",
    "    \n",
    "    # 4. job이 빌 떄까지 다음을 반복합니다.\n",
    "    while jobs:\n",
    "        # 1. jobs의 첫 원소를 꺼내옵니다.\n",
    "        (request, expend) = jobs.pop(0)\n",
    "        # 2. n에 1을 더해줍니다.\n",
    "        n += 1\n",
    "        # 3. time에 소요 시간 expend를 더해줍니다.\n",
    "        time += expend\n",
    "        # 4. answer에 현재 시간 time에서 요청 시간 request를 뺀 값을 더해줍니다.\n",
    "        answer += (time - request)\n",
    "        \n",
    "        # 5. jobs가 비지 않고, jobs[0][0] < time일 때 다음을 반복합니다.\n",
    "        while jobs and jobs[0][0] < time:\n",
    "            # 1. jobs의 첫 원소를 꺼내옵니다.\n",
    "            (request, expend) = jobs.pop(0)\n",
    "            # 2. 해당 원소를 expend 기준으로 pq에다 저장합니다.\n",
    "            heapq.heappush(pq, (-expend, request))\n",
    "\n",
    "        # 6. pq가 빌 때까지 다음을 반복합니다.\n",
    "        while pq:\n",
    "            # 1. pq에서 원소를 꺼냅니다.\n",
    "            (expend, request) = heapq.heappop(pq)\n",
    "            # 2. jobs에 첫 원소로 저장합니다.\n",
    "            jobs.insert(0, [request, -expend])\n",
    "\n",
    "    # 5. answer에 n을 나눠준 몫을 저장하고 반환합니다.\n",
    "    answer //= n\n",
    "    return answer"
   ]
  }
 ],
 "metadata": {
  "kernelspec": {
   "display_name": "Python 3",
   "language": "python",
   "name": "python3"
  },
  "language_info": {
   "codemirror_mode": {
    "name": "ipython",
    "version": 3
   },
   "file_extension": ".py",
   "mimetype": "text/x-python",
   "name": "python",
   "nbconvert_exporter": "python",
   "pygments_lexer": "ipython3",
   "version": "3.7.3"
  }
 },
 "nbformat": 4,
 "nbformat_minor": 2
}
