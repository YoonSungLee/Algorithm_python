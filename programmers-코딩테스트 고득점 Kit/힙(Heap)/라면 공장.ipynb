{
 "cells": [
  {
   "cell_type": "markdown",
   "metadata": {},
   "source": [
    "https://programmers.co.kr/learn/courses/30/lessons/42629#"
   ]
  },
  {
   "cell_type": "markdown",
   "metadata": {},
   "source": [
    "# Solution"
   ]
  },
  {
   "cell_type": "code",
   "execution_count": null,
   "metadata": {},
   "outputs": [],
   "source": [
    "# YoonSungLee\n",
    "\n",
    "import heapq\n",
    "\n",
    "def solution(stock, dates, supplies, k):\n",
    "    heap = []\n",
    "    count = 0\n",
    "    before_date = 0                             # 0번째 이전의 인덱스에 접근하기 어려우므로 값으로 저장\n",
    "    for i in range(len(dates)):                 # dates안의 date마다 확인\n",
    "        stock -= (dates[i]-before_date)         # 흘러간 일 수\n",
    "        if stock<0:\n",
    "            stock += heapq.heappop(heap)[1]     # heapq를 통해 최댓값 선택\n",
    "            count += 1\n",
    "        before_date = dates[i]\n",
    "        heapq.heappush(heap, (-supplies[i],supplies[i]))    # 최대 힙 구성 스킬\n",
    "    stock -= (k-dates[-1])                      # dates[-1] 이후 확인\n",
    "    while stock<0:                              \n",
    "        stock += heapq.heappop(heap)[1]\n",
    "        count += 1\n",
    "    return count"
   ]
  },
  {
   "cell_type": "code",
   "execution_count": null,
   "metadata": {},
   "outputs": [],
   "source": [
    "# https://codedrive.tistory.com/82\n",
    "\n",
    "import heapq\n",
    "\n",
    "def solution(stock, dates, supplies, k):\n",
    "    answer = 0\n",
    "    idx = 0\n",
    "    h = []\n",
    "    while stock<k:\n",
    "        for i in range(idx, len(dates)):\n",
    "            if dates[i] <= stock:\n",
    "                heapq.heappush(h, (-supplies[i],supplies[i]))\n",
    "                idx = i+1\n",
    "            else:\n",
    "                break\n",
    "        stock += heapq.heappop(h)[1]\n",
    "        answer+=1\n",
    "    return answer"
   ]
  },
  {
   "cell_type": "code",
   "execution_count": null,
   "metadata": {},
   "outputs": [],
   "source": [
    "# https://gurumee92.tistory.com/172\n",
    "\n",
    "def solution(stock, dates, supplies, k):\n",
    "    import heapq\n",
    "    \n",
    "    answer = 0\n",
    "    # 범위 시작점입니다.\n",
    "    idx = 0\n",
    "    # 1. 최대 힙 기반 우선순위 큐를 생성합니다.\n",
    "    pq = []\n",
    "    \n",
    "    # 2. stock < k일 때까지 다음을 반복합니다.\n",
    "    while stock < k:\n",
    "        # 1. idx ~ dates의 끝까지 반복합니다.\n",
    "        for i in range(idx, len(dates)):\n",
    "            # 1. stock 이 dates[i]보다 작으면 반복을 멈춥니다.\n",
    "            if stock < dates[i]:\n",
    "                break\n",
    "            # 2. 우선순위 큐에 supplies[i]를 넣습니다. \n",
    "            heapq.heappush(pq, -supplies[i])     \n",
    "            # 3. 시작점을 i+1지점으로 옮깁니다.\n",
    "            idx = i + 1\n",
    "\n",
    "        # 2. 우선순위 큐에서 데이터를 꺼내 stock에 더해줍니다.   \n",
    "        stock += (heapq.heappop(pq) * -1)\n",
    "        # 3. 공급 횟수 answer에 1을 더해줍니다.\n",
    "        answer += 1\n",
    "\n",
    "    return answer"
   ]
  }
 ],
 "metadata": {
  "kernelspec": {
   "display_name": "Python 3",
   "language": "python",
   "name": "python3"
  },
  "language_info": {
   "codemirror_mode": {
    "name": "ipython",
    "version": 3
   },
   "file_extension": ".py",
   "mimetype": "text/x-python",
   "name": "python",
   "nbconvert_exporter": "python",
   "pygments_lexer": "ipython3",
   "version": "3.7.3"
  }
 },
 "nbformat": 4,
 "nbformat_minor": 2
}
